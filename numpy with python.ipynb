{
 "cells": [
  {
   "cell_type": "code",
   "execution_count": 7,
   "metadata": {},
   "outputs": [
    {
     "name": "stdout",
     "output_type": "stream",
     "text": [
      "[1 2 3 4]\n",
      "1\n",
      "4\n",
      "4\n",
      "(4,)\n"
     ]
    }
   ],
   "source": [
    "import numpy as np\n",
    "a=np.array([1,2,3,4])\n",
    "print(a)\n",
    "print(a.ndim)\n",
    "print(a.size)\n",
    "print(a.itemsize)\n",
    "print(a.shape)"
   ]
  },
  {
   "cell_type": "code",
   "execution_count": 9,
   "metadata": {},
   "outputs": [
    {
     "name": "stdout",
     "output_type": "stream",
     "text": [
      "[[1. 2. 3.]\n",
      " [4. 5. 3.]\n",
      " [2. 5. 7.]]\n",
      "2\n",
      "9\n",
      "8\n",
      "(3, 3)\n"
     ]
    }
   ],
   "source": [
    "import numpy as np\n",
    "p=np.array([[1,2,3],[4,5,3],[2,5,7]],dtype=np.float64)\n",
    "print(p)\n",
    "print(p.ndim)\n",
    "print(p.size)\n",
    "print(p.itemsize)\n",
    "print(p.shape)"
   ]
  },
  {
   "cell_type": "code",
   "execution_count": 10,
   "metadata": {},
   "outputs": [
    {
     "name": "stdout",
     "output_type": "stream",
     "text": [
      "[[0. 0. 0. 0.]\n",
      " [0. 0. 0. 0.]\n",
      " [0. 0. 0. 0.]]\n"
     ]
    }
   ],
   "source": [
    "import numpy as np\n",
    "b=np.zeros((3,4))\n",
    "print(b)"
   ]
  },
  {
   "cell_type": "code",
   "execution_count": 12,
   "metadata": {},
   "outputs": [
    {
     "name": "stdout",
     "output_type": "stream",
     "text": [
      "[[1. 1. 1. 1.]\n",
      " [1. 1. 1. 1.]\n",
      " [1. 1. 1. 1.]\n",
      " [1. 1. 1. 1.]\n",
      " [1. 1. 1. 1.]]\n"
     ]
    }
   ],
   "source": [
    "c=np.ones((5,4))\n",
    "print(c)"
   ]
  },
  {
   "cell_type": "code",
   "execution_count": 18,
   "metadata": {},
   "outputs": [
    {
     "name": "stdout",
     "output_type": "stream",
     "text": [
      "[2 1 3 5 6 4]\n",
      "3\n",
      "1\n",
      "[2]\n",
      "[1 2 3]\n"
     ]
    }
   ],
   "source": [
    "import numpy as np\n",
    "d=np.array([2,1,3,5,6,4])\n",
    "print(d)\n",
    "print(a[2])\n",
    "print(a[-4])\n",
    "print(a[1:2])\n",
    "print(a[:3:1])"
   ]
  },
  {
   "cell_type": "code",
   "execution_count": 21,
   "metadata": {},
   "outputs": [
    {
     "name": "stdout",
     "output_type": "stream",
     "text": [
      "range(0, 5)\n",
      "2\n",
      "4\n"
     ]
    }
   ],
   "source": [
    "s=range(5)\n",
    "print(s)\n",
    "print(s[2])\n",
    "print(s[4])"
   ]
  },
  {
   "cell_type": "code",
   "execution_count": 24,
   "metadata": {},
   "outputs": [
    {
     "name": "stdout",
     "output_type": "stream",
     "text": [
      "[1 2 3 4]\n",
      "[1 3 5]\n"
     ]
    }
   ],
   "source": [
    "import numpy as np\n",
    "a=np.arange(1,5)\n",
    "print(a)\n",
    "p=np.arange(1,7,2)\n",
    "print(p)"
   ]
  },
  {
   "cell_type": "code",
   "execution_count": 26,
   "metadata": {},
   "outputs": [
    {
     "name": "stdout",
     "output_type": "stream",
     "text": [
      "[1.         1.44444444 1.88888889 2.33333333 2.77777778 3.22222222\n",
      " 3.66666667 4.11111111 4.55555556 5.        ]\n"
     ]
    }
   ],
   "source": [
    "import numpy as np\n",
    "a=np.linspace(1,5,10)\n",
    "print(a)"
   ]
  },
  {
   "cell_type": "code",
   "execution_count": 44,
   "metadata": {},
   "outputs": [
    {
     "name": "stdout",
     "output_type": "stream",
     "text": [
      "[[1 2]\n",
      " [3 4]\n",
      " [5 6]]\n",
      "(3, 2)\n",
      "[[1 2 3]\n",
      " [4 5 6]]\n",
      "[[1]\n",
      " [2]\n",
      " [3]\n",
      " [4]\n",
      " [5]\n",
      " [6]]\n",
      "[1 2 3 4 5 6]\n",
      "1\n",
      "6\n",
      "21\n",
      "[ 9 12]\n",
      "[ 3  7 11]\n",
      "[[1.         1.41421356]\n",
      " [1.73205081 2.        ]\n",
      " [2.23606798 2.44948974]]\n",
      "1.707825127659933\n",
      "3.5\n",
      "3.5\n"
     ]
    }
   ],
   "source": [
    "import numpy as np\n",
    "a=np.array([[1,2],[3,4],[5,6]])\n",
    "print(a)\n",
    "print(a.shape)\n",
    "print(a.reshape(2,3))\n",
    "print(a.reshape(6,1))\n",
    "print(a.ravel())\n",
    "print(a.min())\n",
    "print(a.max())\n",
    "print(a.sum())\n",
    "print(a.sum(axis=0))\n",
    "print(a.sum(axis=1))\n",
    "print(np.sqrt(a))\n",
    "print(np.std(a))\n",
    "print(np.mean(a))\n",
    "print(np.median(a))"
   ]
  },
  {
   "cell_type": "code",
   "execution_count": 50,
   "metadata": {},
   "outputs": [
    {
     "name": "stdout",
     "output_type": "stream",
     "text": [
      "[[1 2]\n",
      " [3 4]]\n",
      "[[5 6]\n",
      " [7 8]]\n",
      "[[ 6  8]\n",
      " [10 12]]\n",
      "[[-4 -4]\n",
      " [-4 -4]]\n",
      "[[ 5 12]\n",
      " [21 32]]\n",
      "[[0.2        0.33333333]\n",
      " [0.42857143 0.5       ]]\n",
      "[[19 22]\n",
      " [43 50]]\n"
     ]
    }
   ],
   "source": [
    "import numpy as np\n",
    "a=np.array([[1,2],[3,4]])\n",
    "b=np.array([[5,6],[7,8]])\n",
    "print(a)\n",
    "print(b)\n",
    "print(a+b)\n",
    "print(a-b)\n",
    "print(a*b)\n",
    "print(a/b)\n",
    "print(a.dot(b))"
   ]
  },
  {
   "cell_type": "code",
   "execution_count": 54,
   "metadata": {},
   "outputs": [
    {
     "name": "stdout",
     "output_type": "stream",
     "text": [
      "[ 0  1  2  3  4  5  6  7  8  9 10 11 12 13 14 15 16 17 18 19 20 21 22 23]\n",
      "[[ 0  1  2  3]\n",
      " [ 4  5  6  7]\n",
      " [ 8  9 10 11]\n",
      " [12 13 14 15]\n",
      " [16 17 18 19]\n",
      " [20 21 22 23]]\n",
      "[[[ 0  1]\n",
      "  [ 2  3]\n",
      "  [ 4  5]\n",
      "  [ 6  7]]\n",
      "\n",
      " [[ 8  9]\n",
      "  [10 11]\n",
      "  [12 13]\n",
      "  [14 15]]\n",
      "\n",
      " [[16 17]\n",
      "  [18 19]\n",
      "  [20 21]\n",
      "  [22 23]]]\n"
     ]
    }
   ],
   "source": [
    "import numpy as np\n",
    "a=np.arange(24)\n",
    "print(a)\n",
    "print(a.reshape(6,4))\n",
    "print(a.reshape(3,4,2))"
   ]
  },
  {
   "cell_type": "code",
   "execution_count": 60,
   "metadata": {},
   "outputs": [
    {
     "name": "stdout",
     "output_type": "stream",
     "text": [
      "[[0 1]\n",
      " [2 3]\n",
      " [4 5]]\n",
      "[[ 6  7]\n",
      " [ 8  9]\n",
      " [10 11]]\n",
      "[[ 0  1]\n",
      " [ 2  3]\n",
      " [ 4  5]\n",
      " [ 6  7]\n",
      " [ 8  9]\n",
      " [10 11]]\n",
      "[[ 0  1  6  7]\n",
      " [ 2  3  8  9]\n",
      " [ 4  5 10 11]]\n"
     ]
    }
   ],
   "source": [
    "import numpy as np\n",
    "a=np.arange(6).reshape(3,2)\n",
    "b=np.arange(6,12).reshape(3,2)\n",
    "print(a)\n",
    "print(b)\n",
    "print(np.vstack((a,b)))\n",
    "print(np.hstack((a,b)))\n"
   ]
  },
  {
   "cell_type": "code",
   "execution_count": 65,
   "metadata": {},
   "outputs": [
    {
     "name": "stdout",
     "output_type": "stream",
     "text": [
      "[[ 0  1  2  3  4]\n",
      " [ 5  6  7  8  9]\n",
      " [10 11 12 13 14]\n",
      " [15 16 17 18 19]\n",
      " [20 21 22 23 24]\n",
      " [25 26 27 28 29]]\n",
      "[array([[ 0],\n",
      "       [ 5],\n",
      "       [10],\n",
      "       [15],\n",
      "       [20],\n",
      "       [25]]), array([[ 1],\n",
      "       [ 6],\n",
      "       [11],\n",
      "       [16],\n",
      "       [21],\n",
      "       [26]]), array([[ 2],\n",
      "       [ 7],\n",
      "       [12],\n",
      "       [17],\n",
      "       [22],\n",
      "       [27]]), array([[ 3],\n",
      "       [ 8],\n",
      "       [13],\n",
      "       [18],\n",
      "       [23],\n",
      "       [28]]), array([[ 4],\n",
      "       [ 9],\n",
      "       [14],\n",
      "       [19],\n",
      "       [24],\n",
      "       [29]])]\n"
     ]
    }
   ],
   "source": [
    "import numpy as np\n",
    "a=np.arange(30).reshape(6,5)\n",
    "print(a)\n",
    "print(np.hsplit(a,5))"
   ]
  },
  {
   "cell_type": "code",
   "execution_count": 66,
   "metadata": {},
   "outputs": [
    {
     "name": "stdout",
     "output_type": "stream",
     "text": [
      "[ 0  1  2  3  4  5  6  7  8  9 10 11 12 13 14 15 16 17 18 19 20 21 22 23\n",
      " 24 25 26 27 28 29 30 31 32 33 34 35 36 37 38 39 40 41 42 43 44 45 46 47\n",
      " 48 49 50 51 52 53 54 55 56 57 58 59 60 61 62 63 64 65 66 67 68 69 70 71\n",
      " 72 73 74 75 76 77 78 79 80 81 82 83 84 85 86 87 88 89 90 91 92 93 94 95\n",
      " 96 97 98 99]\n",
      "[[ 0  1  2  3  4  5  6  7  8  9]\n",
      " [10 11 12 13 14 15 16 17 18 19]\n",
      " [20 21 22 23 24 25 26 27 28 29]\n",
      " [30 31 32 33 34 35 36 37 38 39]\n",
      " [40 41 42 43 44 45 46 47 48 49]\n",
      " [50 51 52 53 54 55 56 57 58 59]\n",
      " [60 61 62 63 64 65 66 67 68 69]\n",
      " [70 71 72 73 74 75 76 77 78 79]\n",
      " [80 81 82 83 84 85 86 87 88 89]\n",
      " [90 91 92 93 94 95 96 97 98 99]]\n",
      "[[[ 0  1  2  3  4]\n",
      "  [ 5  6  7  8  9]\n",
      "  [10 11 12 13 14]\n",
      "  [15 16 17 18 19]\n",
      "  [20 21 22 23 24]]\n",
      "\n",
      " [[25 26 27 28 29]\n",
      "  [30 31 32 33 34]\n",
      "  [35 36 37 38 39]\n",
      "  [40 41 42 43 44]\n",
      "  [45 46 47 48 49]]\n",
      "\n",
      " [[50 51 52 53 54]\n",
      "  [55 56 57 58 59]\n",
      "  [60 61 62 63 64]\n",
      "  [65 66 67 68 69]\n",
      "  [70 71 72 73 74]]\n",
      "\n",
      " [[75 76 77 78 79]\n",
      "  [80 81 82 83 84]\n",
      "  [85 86 87 88 89]\n",
      "  [90 91 92 93 94]\n",
      "  [95 96 97 98 99]]]\n"
     ]
    }
   ],
   "source": [
    "import numpy as np\n",
    "a=np.arange(100)\n",
    "print(a)\n",
    "a=a.reshape(10,10)\n",
    "print(a)\n",
    "a=a.reshape(4,5,5)\n",
    "print(a)"
   ]
  },
  {
   "cell_type": "code",
   "execution_count": 67,
   "metadata": {},
   "outputs": [
    {
     "name": "stdout",
     "output_type": "stream",
     "text": [
      "[ 0  1  2  3  4  5  6  7  8  9 10 11 12 13 14 15 16 17 18 19 20 21 22 23\n",
      " 24 25 26 27 28 29 30 31 32 33 34 35 36 37 38 39 40 41 42 43 44 45 46 47\n",
      " 48 49 50 51 52 53 54 55 56 57 58 59 60 61 62 63 64 65 66 67 68 69 70 71\n",
      " 72 73 74 75 76 77 78 79 80 81 82 83 84 85 86 87 88 89]\n",
      "[[ 0  1  2  3  4  5  6  7  8  9]\n",
      " [10 11 12 13 14 15 16 17 18 19]\n",
      " [20 21 22 23 24 25 26 27 28 29]\n",
      " [30 31 32 33 34 35 36 37 38 39]\n",
      " [40 41 42 43 44 45 46 47 48 49]\n",
      " [50 51 52 53 54 55 56 57 58 59]\n",
      " [60 61 62 63 64 65 66 67 68 69]\n",
      " [70 71 72 73 74 75 76 77 78 79]\n",
      " [80 81 82 83 84 85 86 87 88 89]]\n",
      "[[[ 0  1  2  3  4  5]\n",
      "  [ 6  7  8  9 10 11]\n",
      "  [12 13 14 15 16 17]\n",
      "  [18 19 20 21 22 23]\n",
      "  [24 25 26 27 28 29]]\n",
      "\n",
      " [[30 31 32 33 34 35]\n",
      "  [36 37 38 39 40 41]\n",
      "  [42 43 44 45 46 47]\n",
      "  [48 49 50 51 52 53]\n",
      "  [54 55 56 57 58 59]]\n",
      "\n",
      " [[60 61 62 63 64 65]\n",
      "  [66 67 68 69 70 71]\n",
      "  [72 73 74 75 76 77]\n",
      "  [78 79 80 81 82 83]\n",
      "  [84 85 86 87 88 89]]]\n"
     ]
    }
   ],
   "source": [
    "import numpy as np\n",
    "a=np.arange(90)\n",
    "print(a)\n",
    "a=a.reshape(9,10)\n",
    "print(a)\n",
    "a=a.reshape(3,5,6)\n",
    "print(a)"
   ]
  },
  {
   "cell_type": "code",
   "execution_count": 69,
   "metadata": {},
   "outputs": [
    {
     "name": "stdout",
     "output_type": "stream",
     "text": [
      "[1 2 2 3 4 5 6 7]\n",
      "[0 1 2 3 4 5 6 7 8 9]\n"
     ]
    }
   ],
   "source": [
    "import numpy as np\n",
    "a=np.array([1,2,2,3,4,5,6,7])\n",
    "print(a)\n",
    "b=np.arange(10)\n",
    "print(b)"
   ]
  },
  {
   "cell_type": "code",
   "execution_count": 70,
   "metadata": {},
   "outputs": [
    {
     "name": "stdout",
     "output_type": "stream",
     "text": [
      "[]\n"
     ]
    }
   ],
   "source": [
    "import numpy as np\n",
    "a=np.array([])\n",
    "print(a)"
   ]
  },
  {
   "cell_type": "code",
   "execution_count": 71,
   "metadata": {},
   "outputs": [
    {
     "name": "stdout",
     "output_type": "stream",
     "text": [
      "[1 2 3] [[1.5 2.  3. ]\n",
      " [4.  5.  6. ]] [[[1 2 3]\n",
      "  [4 5 6]]\n",
      "\n",
      " [[3 2 1]\n",
      "  [4 5 6]]]\n"
     ]
    }
   ],
   "source": [
    "import numpy as np\n",
    "a=np.array([1,2,3])\n",
    "b=np.array([(1.5,2,3),(4,5,6)], dtype=np.float)\n",
    "c=np.array([[(1.5,2,3),(4,5,6)],[(3,2,1),(4,5,6)]], dtype=np.int)\n",
    "print(a,b,c)"
   ]
  },
  {
   "cell_type": "code",
   "execution_count": 72,
   "metadata": {},
   "outputs": [
    {
     "name": "stdout",
     "output_type": "stream",
     "text": [
      "[[ 1  0  0]\n",
      " [ 0  2  0]\n",
      " [ 0  0 30]]\n"
     ]
    }
   ],
   "source": [
    "#linear algebra\n",
    "import numpy as np\n",
    "a=np.diag((1,2,30))\n",
    "print(a)"
   ]
  },
  {
   "cell_type": "code",
   "execution_count": 73,
   "metadata": {},
   "outputs": [
    {
     "name": "stdout",
     "output_type": "stream",
     "text": [
      "[ 1.  2. 30.]\n",
      "[[1. 0. 0.]\n",
      " [0. 1. 0.]\n",
      " [0. 0. 1.]]\n"
     ]
    }
   ],
   "source": [
    "w,v=np.linalg.eig(a)\n",
    "print(w)\n",
    "print(v)"
   ]
  },
  {
   "cell_type": "code",
   "execution_count": 74,
   "metadata": {},
   "outputs": [
    {
     "name": "stdout",
     "output_type": "stream",
     "text": [
      "[[4 0 0]\n",
      " [0 0 0]\n",
      " [0 0 6]]\n"
     ]
    }
   ],
   "source": [
    "import numpy as np\n",
    "a=np.diag((4,0,6))\n",
    "print(a)"
   ]
  },
  {
   "cell_type": "code",
   "execution_count": 75,
   "metadata": {},
   "outputs": [
    {
     "name": "stdout",
     "output_type": "stream",
     "text": [
      "(array([4., 0., 6.]), array([[1., 0., 0.],\n",
      "       [0., 1., 0.],\n",
      "       [0., 0., 1.]]))\n"
     ]
    }
   ],
   "source": [
    "p=np.linalg.eig(a)\n",
    "print(p)"
   ]
  },
  {
   "cell_type": "code",
   "execution_count": 76,
   "metadata": {},
   "outputs": [
    {
     "name": "stdout",
     "output_type": "stream",
     "text": [
      "   2\n",
      "3 x + 2 x + 1\n"
     ]
    }
   ],
   "source": [
    "import numpy as np\n",
    "a=np.poly1d((3,2,1))\n",
    "print(a)"
   ]
  },
  {
   "cell_type": "code",
   "execution_count": 82,
   "metadata": {},
   "outputs": [
    {
     "name": "stdout",
     "output_type": "stream",
     "text": [
      "   3     2\n",
      "4 x + 5 x + 2 x + 1\n"
     ]
    }
   ],
   "source": [
    "import numpy as np\n",
    "b=np.poly1d((4,5,2,1))\n",
    "print(b)"
   ]
  },
  {
   "cell_type": "code",
   "execution_count": 83,
   "metadata": {},
   "outputs": [
    {
     "data": {
      "text/plain": [
       "array([[1.5, 2. ],\n",
       "       [3. , 4. ],\n",
       "       [5. , 6. ]])"
      ]
     },
     "execution_count": 83,
     "metadata": {},
     "output_type": "execute_result"
    }
   ],
   "source": [
    "import numpy as np\n",
    "a=np.empty((3,2))\n",
    "a"
   ]
  },
  {
   "cell_type": "code",
   "execution_count": 84,
   "metadata": {},
   "outputs": [
    {
     "data": {
      "text/plain": [
       "array([[3, 3, 3],\n",
       "       [3, 3, 3],\n",
       "       [3, 3, 3]])"
      ]
     },
     "execution_count": 84,
     "metadata": {},
     "output_type": "execute_result"
    }
   ],
   "source": [
    "np.full((3,3),3)"
   ]
  },
  {
   "cell_type": "code",
   "execution_count": 85,
   "metadata": {},
   "outputs": [
    {
     "data": {
      "text/plain": [
       "array([1.        , 1.02040816, 1.04081633, 1.06122449, 1.08163265,\n",
       "       1.10204082, 1.12244898, 1.14285714, 1.16326531, 1.18367347,\n",
       "       1.20408163, 1.2244898 , 1.24489796, 1.26530612, 1.28571429,\n",
       "       1.30612245, 1.32653061, 1.34693878, 1.36734694, 1.3877551 ,\n",
       "       1.40816327, 1.42857143, 1.44897959, 1.46938776, 1.48979592,\n",
       "       1.51020408, 1.53061224, 1.55102041, 1.57142857, 1.59183673,\n",
       "       1.6122449 , 1.63265306, 1.65306122, 1.67346939, 1.69387755,\n",
       "       1.71428571, 1.73469388, 1.75510204, 1.7755102 , 1.79591837,\n",
       "       1.81632653, 1.83673469, 1.85714286, 1.87755102, 1.89795918,\n",
       "       1.91836735, 1.93877551, 1.95918367, 1.97959184, 2.        ])"
      ]
     },
     "execution_count": 85,
     "metadata": {},
     "output_type": "execute_result"
    }
   ],
   "source": [
    "import numpy as np\n",
    "e=np.linspace(1,2)\n",
    "e#50 values will get if we dont mention range"
   ]
  },
  {
   "cell_type": "code",
   "execution_count": 86,
   "metadata": {},
   "outputs": [
    {
     "data": {
      "text/plain": [
       "array([1.        , 1.04081633, 1.08163265, 1.12244898, 1.16326531,\n",
       "       1.20408163, 1.24489796, 1.28571429, 1.32653061, 1.36734694,\n",
       "       1.40816327, 1.44897959, 1.48979592, 1.53061224, 1.57142857,\n",
       "       1.6122449 , 1.65306122, 1.69387755, 1.73469388, 1.7755102 ,\n",
       "       1.81632653, 1.85714286, 1.89795918, 1.93877551, 1.97959184,\n",
       "       2.02040816, 2.06122449, 2.10204082, 2.14285714, 2.18367347,\n",
       "       2.2244898 , 2.26530612, 2.30612245, 2.34693878, 2.3877551 ,\n",
       "       2.42857143, 2.46938776, 2.51020408, 2.55102041, 2.59183673,\n",
       "       2.63265306, 2.67346939, 2.71428571, 2.75510204, 2.79591837,\n",
       "       2.83673469, 2.87755102, 2.91836735, 2.95918367, 3.        ])"
      ]
     },
     "execution_count": 86,
     "metadata": {},
     "output_type": "execute_result"
    }
   ],
   "source": [
    "import numpy as np\n",
    "f=np.linspace(1,3)\n",
    "f"
   ]
  },
  {
   "cell_type": "code",
   "execution_count": 89,
   "metadata": {},
   "outputs": [
    {
     "data": {
      "image/png": "[encoded data removed]",
      "text/plain": [
       "<Figure size 432x288 with 1 Axes>"
      ]
     },
     "metadata": {
      "needs_background": "light"
     },
     "output_type": "display_data"
    }
   ],
   "source": [
    "import matplotlib.pyplot as plt\n",
    "e=np.linspace(9,8)\n",
    "f=np.linspace(6,4)\n",
    "plt.plot(e,f)\n",
    "plt.show()"
   ]
  },
  {
   "cell_type": "code",
   "execution_count": 90,
   "metadata": {},
   "outputs": [
    {
     "name": "stdout",
     "output_type": "stream",
     "text": [
      "[[8 8 8 8]\n",
      " [8 8 8 8]\n",
      " [8 8 8 8]\n",
      " [8 8 8 8]\n",
      " [8 8 8 8]\n",
      " [8 8 8 8]]\n",
      "[[9 9 9 9]\n",
      " [9 9 9 9]\n",
      " [9 9 9 9]]\n"
     ]
    }
   ],
   "source": [
    "import numpy as np\n",
    "x=np.full((6,4),8)\n",
    "print(x)\n",
    "y=np.full((3,4),9)\n",
    "print(y)"
   ]
  },
  {
   "cell_type": "code",
   "execution_count": 91,
   "metadata": {},
   "outputs": [
    {
     "data": {
      "image/png": "[encoded data removed]",
      "text/plain": [
       "<Figure size 432x288 with 1 Axes>"
      ]
     },
     "metadata": {
      "needs_background": "light"
     },
     "output_type": "display_data"
    }
   ],
   "source": [
    "import matplotlib.pyplot as plt\n",
    "plt.scatter(f,e)\n",
    "plt.show()"
   ]
  },
  {
   "cell_type": "code",
   "execution_count": 92,
   "metadata": {},
   "outputs": [
    {
     "data": {
      "image/png": "[encoded data removed]",
      "text/plain": [
       "<Figure size 432x288 with 1 Axes>"
      ]
     },
     "metadata": {
      "needs_background": "light"
     },
     "output_type": "display_data"
    }
   ],
   "source": [
    "import matplotlib.pyplot as plt\n",
    "plt.hist(f)\n",
    "plt.show()"
   ]
  },
  {
   "cell_type": "code",
   "execution_count": 93,
   "metadata": {},
   "outputs": [
    {
     "name": "stdout",
     "output_type": "stream",
     "text": [
      "[[1. 0. 0. 0. 0. 0. 0. 0. 0. 0.]\n",
      " [0. 1. 0. 0. 0. 0. 0. 0. 0. 0.]\n",
      " [0. 0. 1. 0. 0. 0. 0. 0. 0. 0.]\n",
      " [0. 0. 0. 1. 0. 0. 0. 0. 0. 0.]\n",
      " [0. 0. 0. 0. 1. 0. 0. 0. 0. 0.]\n",
      " [0. 0. 0. 0. 0. 1. 0. 0. 0. 0.]\n",
      " [0. 0. 0. 0. 0. 0. 1. 0. 0. 0.]\n",
      " [0. 0. 0. 0. 0. 0. 0. 1. 0. 0.]\n",
      " [0. 0. 0. 0. 0. 0. 0. 0. 1. 0.]\n",
      " [0. 0. 0. 0. 0. 0. 0. 0. 0. 1.]]\n"
     ]
    }
   ],
   "source": [
    "h=np.eye(10)\n",
    "print(h)"
   ]
  },
  {
   "cell_type": "code",
   "execution_count": 94,
   "metadata": {},
   "outputs": [
    {
     "name": "stdout",
     "output_type": "stream",
     "text": [
      "[[0. 1.]\n",
      " [2. 3.]\n",
      " [4. 5.]]\n"
     ]
    }
   ],
   "source": [
    "import numpy as np\n",
    "ab=np.empty([3,2],dtype=np.float)\n",
    "print(ab)"
   ]
  },
  {
   "cell_type": "code",
   "execution_count": 95,
   "metadata": {},
   "outputs": [
    {
     "data": {
      "text/plain": [
       "array([[0., 1., 2.],\n",
       "       [3., 4., 5.]])"
      ]
     },
     "execution_count": 95,
     "metadata": {},
     "output_type": "execute_result"
    }
   ],
   "source": [
    "np.empty((2,3))"
   ]
  },
  {
   "cell_type": "code",
   "execution_count": 96,
   "metadata": {},
   "outputs": [
    {
     "data": {
      "text/plain": [
       "array([[9, 9, 9, 9],\n",
       "       [9, 9, 9, 9],\n",
       "       [9, 9, 9, 9]])"
      ]
     },
     "execution_count": 96,
     "metadata": {},
     "output_type": "execute_result"
    }
   ],
   "source": [
    "np.save(\"b\",y)\n",
    "np.savez(\"b.npz\",y)\n",
    "np.load(\"b.npy\")\n",
    "\n"
   ]
  },
  {
   "cell_type": "code",
   "execution_count": 97,
   "metadata": {},
   "outputs": [
    {
     "data": {
      "image/png": "[encoded data removed]",
      "text/plain": [
       "<Figure size 432x288 with 1 Axes>"
      ]
     },
     "metadata": {
      "needs_background": "light"
     },
     "output_type": "display_data"
    }
   ],
   "source": [
    "import matplotlib.pyplot as plt\n",
    "import numpy as np\n",
    "x=np.linspace(0,2,20)\n",
    "y=np.linspace(0,9,20)\n",
    "plt.plot(x,y,\"r\")\n",
    "plt.show()"
   ]
  },
  {
   "cell_type": "code",
   "execution_count": 98,
   "metadata": {},
   "outputs": [
    {
     "data": {
      "image/png": "[encoded data removed]",
      "text/plain": [
       "<Figure size 432x288 with 1 Axes>"
      ]
     },
     "metadata": {
      "needs_background": "light"
     },
     "output_type": "display_data"
    }
   ],
   "source": [
    "import matplotlib.pyplot as plt\n",
    "import numpy as np\n",
    "p=np.linspace(2,8,30)\n",
    "q=np.linspace(1,9,30)\n",
    "plt.plot(p,q,\"g\")\n",
    "plt.show()"
   ]
  },
  {
   "cell_type": "code",
   "execution_count": 99,
   "metadata": {},
   "outputs": [
    {
     "name": "stdout",
     "output_type": "stream",
     "text": [
      "[0 0 0 0 0 0]\n",
      "[[1 1 1]\n",
      " [1 1 1]]\n"
     ]
    }
   ],
   "source": [
    "import numpy as np\n",
    "a=np.arange(6)\n",
    "b=a.reshape((2,3))\n",
    "print(np.zeros_like(a))\n",
    "print(np.ones_like(b))"
   ]
  },
  {
   "cell_type": "code",
   "execution_count": 101,
   "metadata": {},
   "outputs": [
    {
     "name": "stdout",
     "output_type": "stream",
     "text": [
      "[[[ 0  1]\n",
      "  [ 2  3]]\n",
      "\n",
      " [[ 4  5]\n",
      "  [ 6  7]]\n",
      "\n",
      " [[ 8  9]\n",
      "  [10 11]]]\n"
     ]
    }
   ],
   "source": [
    "import numpy as np\n",
    "a=np.arange(12)\n",
    "b=a.reshape((3,2,2))\n",
    "print(np.empty_like(b))"
   ]
  },
  {
   "cell_type": "code",
   "execution_count": 102,
   "metadata": {},
   "outputs": [
    {
     "name": "stdout",
     "output_type": "stream",
     "text": [
      "[[0 1 2 3]\n",
      " [4 5 6 7]]\n"
     ]
    },
    {
     "data": {
      "text/plain": [
       "array([4, 4, 4, 4, 4, 4, 4, 4])"
      ]
     },
     "execution_count": 102,
     "metadata": {},
     "output_type": "execute_result"
    }
   ],
   "source": [
    "x=np.arange(8,dtype=int)\n",
    "y=x.reshape((2,4))\n",
    "print(y)\n",
    "np.full_like(x,4)"
   ]
  },
  {
   "cell_type": "code",
   "execution_count": 103,
   "metadata": {},
   "outputs": [
    {
     "data": {
      "text/plain": [
       "7"
      ]
     },
     "execution_count": 103,
     "metadata": {},
     "output_type": "execute_result"
    }
   ],
   "source": [
    "#functions\n",
    "np.random.randint(8)"
   ]
  },
  {
   "cell_type": "code",
   "execution_count": 104,
   "metadata": {},
   "outputs": [
    {
     "data": {
      "text/plain": [
       "1"
      ]
     },
     "execution_count": 104,
     "metadata": {},
     "output_type": "execute_result"
    }
   ],
   "source": [
    "np.random.randint(8)"
   ]
  },
  {
   "cell_type": "code",
   "execution_count": 105,
   "metadata": {},
   "outputs": [
    {
     "data": {
      "text/plain": [
       "array([0.92333787, 0.85937745, 0.02143689, 0.42706685, 0.91710068,\n",
       "       0.34801168, 0.98767855, 0.02224302, 0.39007175, 0.46844215])"
      ]
     },
     "execution_count": 105,
     "metadata": {},
     "output_type": "execute_result"
    }
   ],
   "source": [
    "np.random.rand(10)"
   ]
  },
  {
   "cell_type": "code",
   "execution_count": 106,
   "metadata": {},
   "outputs": [
    {
     "data": {
      "text/plain": [
       "array([0.49611093, 0.10770492, 0.63203228, 0.31264599, 0.51930305,\n",
       "       0.54368123, 0.78303955, 0.89979521, 0.23129371, 0.43734693])"
      ]
     },
     "execution_count": 106,
     "metadata": {},
     "output_type": "execute_result"
    }
   ],
   "source": [
    "np.random.rand(10)"
   ]
  },
  {
   "cell_type": "code",
   "execution_count": 107,
   "metadata": {},
   "outputs": [
    {
     "data": {
      "text/plain": [
       "12.046876665835697"
      ]
     },
     "execution_count": 107,
     "metadata": {},
     "output_type": "execute_result"
    }
   ],
   "source": [
    "np.random.logistic(10)"
   ]
  },
  {
   "cell_type": "code",
   "execution_count": 108,
   "metadata": {},
   "outputs": [
    {
     "data": {
      "text/plain": [
       "0.2031023777900602"
      ]
     },
     "execution_count": 108,
     "metadata": {},
     "output_type": "execute_result"
    }
   ],
   "source": [
    "np.random.beta(10,50)"
   ]
  },
  {
   "cell_type": "code",
   "execution_count": 109,
   "metadata": {},
   "outputs": [
    {
     "data": {
      "text/plain": [
       "array([[-0.3393602 ,  4.95329828,  1.35597169,  2.26199164],\n",
       "       [-0.26770625,  0.43085966, -0.0956201 , -0.32915305]])"
      ]
     },
     "execution_count": 109,
     "metadata": {},
     "output_type": "execute_result"
    }
   ],
   "source": [
    "2.5*np.random.randn(2,4)+3"
   ]
  },
  {
   "cell_type": "code",
   "execution_count": 110,
   "metadata": {},
   "outputs": [
    {
     "data": {
      "text/plain": [
       "array([[ True, False, False],\n",
       "       [False,  True, False],\n",
       "       [False, False,  True]])"
      ]
     },
     "execution_count": 110,
     "metadata": {},
     "output_type": "execute_result"
    }
   ],
   "source": [
    "np.fromfunction(lambda i,j:i==j,(3,3),dtype=int)"
   ]
  },
  {
   "cell_type": "code",
   "execution_count": 111,
   "metadata": {},
   "outputs": [
    {
     "data": {
      "text/plain": [
       "array([((10, 0), 98.25)],\n",
       "      dtype=[('time', [('min', '<i4'), ('sec', '<i4')]), ('temp', '<f8')])"
      ]
     },
     "execution_count": 111,
     "metadata": {},
     "output_type": "execute_result"
    }
   ],
   "source": [
    "dt=np.dtype([('time',[('min',int),('sec',int)]),('temp',float)])\n",
    "x=np.zeros((1,),dtype=dt)\n",
    "x['time']['min']=10;x['temp']=98.25\n",
    "x"
   ]
  },
  {
   "cell_type": "code",
   "execution_count": 112,
   "metadata": {},
   "outputs": [
    {
     "name": "stdout",
     "output_type": "stream",
     "text": [
      "[0 1 2 3 4 5]\n"
     ]
    }
   ],
   "source": [
    "x=np.arange(6)\n",
    "print(x)"
   ]
  },
  {
   "cell_type": "code",
   "execution_count": 113,
   "metadata": {},
   "outputs": [
    {
     "name": "stdout",
     "output_type": "stream",
     "text": [
      "[0 1 2 3 4 5]\n",
      "[ 0  2  4  6  8 10]\n",
      "[0 0 0 0 0 0]\n",
      "[ 0  1  4  9 16 25]\n",
      "[nan  1.  1.  1.  1.  1.]\n",
      "[  1.           2.71828183   7.3890561   20.08553692  54.59815003\n",
      " 148.4131591 ]\n",
      "2.9166666666666665\n",
      "1.0\n",
      "1.707825127659933\n"
     ]
    },
    {
     "name": "stderr",
     "output_type": "stream",
     "text": [
      "c:\\users\\govind mareni\\appdata\\local\\programs\\python\\python36\\lib\\site-packages\\ipykernel_launcher.py:6: RuntimeWarning: invalid value encountered in true_divide\n",
      "  \n"
     ]
    }
   ],
   "source": [
    "y=np.arange(6)\n",
    "print(y)\n",
    "print(np.add(x,y))\n",
    "print(np.subtract(x,y))\n",
    "print(np.multiply(x,y))\n",
    "print(np.divide(x,y))\n",
    "print(np.exp(x))\n",
    "print(np.var(x))\n",
    "print(np.corrcoef(x))\n",
    "print(np.std(x))"
   ]
  },
  {
   "cell_type": "code",
   "execution_count": 114,
   "metadata": {},
   "outputs": [
    {
     "name": "stdout",
     "output_type": "stream",
     "text": [
      "[[ 0  1  2  3  4  5  6  7  8  9 10 11]]\n",
      "[[0]\n",
      " [1]\n",
      " [2]\n",
      " [3]\n",
      " [4]\n",
      " [5]\n",
      " [6]\n",
      " [7]\n",
      " [8]\n",
      " [9]]\n"
     ]
    }
   ],
   "source": [
    "import numpy as np\n",
    "e=np.arange(12)\n",
    "f=np.arange(10)\n",
    "print(np.column_stack(e))\n",
    "print(np.row_stack(f))"
   ]
  },
  {
   "cell_type": "code",
   "execution_count": 115,
   "metadata": {},
   "outputs": [
    {
     "data": {
      "text/plain": [
       "[array([1]), array([2]), array([3])]"
      ]
     },
     "execution_count": 115,
     "metadata": {},
     "output_type": "execute_result"
    }
   ],
   "source": [
    "a=np.array([1,2,3])\n",
    "np.split(a,3)"
   ]
  },
  {
   "cell_type": "code",
   "execution_count": 116,
   "metadata": {},
   "outputs": [
    {
     "name": "stdout",
     "output_type": "stream",
     "text": [
      "[array([[[91,  2],\n",
      "        [ 3,  4]]]), array([[[5, 6],\n",
      "        [7, 8]]])]\n"
     ]
    }
   ],
   "source": [
    "import numpy as np\n",
    "c=np.array([[(91,2),(3,4)],[(5,6),(7,8)]])\n",
    "print(np.split(c,2))"
   ]
  },
  {
   "cell_type": "code",
   "execution_count": 28,
   "metadata": {},
   "outputs": [
    {
     "ename": "ValueError",
     "evalue": "Only know how to handle extensions: ['png']; with Pillow installed matplotlib can handle more images",
     "output_type": "error",
     "traceback": [
      "\u001b[1;31m---------------------------------------------------------------------------\u001b[0m",
      "\u001b[1;31mModuleNotFoundError\u001b[0m                       Traceback (most recent call last)",
      "\u001b[1;32mc:\\users\\govind mareni\\appdata\\local\\programs\\python\\python36\\lib\\site-packages\\matplotlib\\image.py\u001b[0m in \u001b[0;36mimread\u001b[1;34m(fname, format)\u001b[0m\n\u001b[0;32m   1345\u001b[0m         \u001b[1;32mtry\u001b[0m\u001b[1;33m:\u001b[0m\u001b[1;33m\u001b[0m\u001b[0m\n\u001b[1;32m-> 1346\u001b[1;33m             \u001b[1;32mfrom\u001b[0m \u001b[0mPIL\u001b[0m \u001b[1;32mimport\u001b[0m \u001b[0mImage\u001b[0m\u001b[1;33m\u001b[0m\u001b[0m\n\u001b[0m\u001b[0;32m   1347\u001b[0m         \u001b[1;32mexcept\u001b[0m \u001b[0mImportError\u001b[0m\u001b[1;33m:\u001b[0m\u001b[1;33m\u001b[0m\u001b[0m\n",
      "\u001b[1;31mModuleNotFoundError\u001b[0m: No module named 'PIL'",
      "\nDuring handling of the above exception, another exception occurred:\n",
      "\u001b[1;31mValueError\u001b[0m                                Traceback (most recent call last)",
      "\u001b[1;32m<ipython-input-28-f89f0baa6cba>\u001b[0m in \u001b[0;36m<module>\u001b[1;34m\u001b[0m\n\u001b[0;32m      1\u001b[0m \u001b[1;32mimport\u001b[0m \u001b[0mmatplotlib\u001b[0m\u001b[1;33m.\u001b[0m\u001b[0mpyplot\u001b[0m \u001b[1;32mas\u001b[0m \u001b[0mplt\u001b[0m\u001b[1;33m\u001b[0m\u001b[0m\n\u001b[1;32m----> 2\u001b[1;33m \u001b[0mimg\u001b[0m\u001b[1;33m=\u001b[0m\u001b[0mplt\u001b[0m\u001b[1;33m.\u001b[0m\u001b[0mimread\u001b[0m\u001b[1;33m(\u001b[0m\u001b[1;34m'piii.jpg'\u001b[0m\u001b[1;33m)\u001b[0m\u001b[1;33m\u001b[0m\u001b[0m\n\u001b[0m\u001b[0;32m      3\u001b[0m \u001b[0mprint\u001b[0m\u001b[1;33m(\u001b[0m\u001b[0mplt\u001b[0m\u001b[1;33m.\u001b[0m\u001b[0mimshow\u001b[0m\u001b[1;33m(\u001b[0m\u001b[0mimg\u001b[0m\u001b[1;33m)\u001b[0m\u001b[1;33m)\u001b[0m\u001b[1;33m\u001b[0m\u001b[0m\n\u001b[0;32m      4\u001b[0m \u001b[0mplt\u001b[0m\u001b[1;33m.\u001b[0m\u001b[0mshow\u001b[0m\u001b[1;33m(\u001b[0m\u001b[1;33m)\u001b[0m\u001b[1;33m\u001b[0m\u001b[0m\n",
      "\u001b[1;32mc:\\users\\govind mareni\\appdata\\local\\programs\\python\\python36\\lib\\site-packages\\matplotlib\\pyplot.py\u001b[0m in \u001b[0;36mimread\u001b[1;34m(fname, format)\u001b[0m\n\u001b[0;32m   2150\u001b[0m \u001b[1;33m@\u001b[0m\u001b[0mdocstring\u001b[0m\u001b[1;33m.\u001b[0m\u001b[0mcopy_dedent\u001b[0m\u001b[1;33m(\u001b[0m\u001b[0mmatplotlib\u001b[0m\u001b[1;33m.\u001b[0m\u001b[0mimage\u001b[0m\u001b[1;33m.\u001b[0m\u001b[0mimread\u001b[0m\u001b[1;33m)\u001b[0m\u001b[1;33m\u001b[0m\u001b[0m\n\u001b[0;32m   2151\u001b[0m \u001b[1;32mdef\u001b[0m \u001b[0mimread\u001b[0m\u001b[1;33m(\u001b[0m\u001b[0mfname\u001b[0m\u001b[1;33m,\u001b[0m \u001b[0mformat\u001b[0m\u001b[1;33m=\u001b[0m\u001b[1;32mNone\u001b[0m\u001b[1;33m)\u001b[0m\u001b[1;33m:\u001b[0m\u001b[1;33m\u001b[0m\u001b[0m\n\u001b[1;32m-> 2152\u001b[1;33m     \u001b[1;32mreturn\u001b[0m \u001b[0mmatplotlib\u001b[0m\u001b[1;33m.\u001b[0m\u001b[0mimage\u001b[0m\u001b[1;33m.\u001b[0m\u001b[0mimread\u001b[0m\u001b[1;33m(\u001b[0m\u001b[0mfname\u001b[0m\u001b[1;33m,\u001b[0m \u001b[0mformat\u001b[0m\u001b[1;33m)\u001b[0m\u001b[1;33m\u001b[0m\u001b[0m\n\u001b[0m\u001b[0;32m   2153\u001b[0m \u001b[1;33m\u001b[0m\u001b[0m\n\u001b[0;32m   2154\u001b[0m \u001b[1;33m\u001b[0m\u001b[0m\n",
      "\u001b[1;32mc:\\users\\govind mareni\\appdata\\local\\programs\\python\\python36\\lib\\site-packages\\matplotlib\\image.py\u001b[0m in \u001b[0;36mimread\u001b[1;34m(fname, format)\u001b[0m\n\u001b[0;32m   1348\u001b[0m             raise ValueError('Only know how to handle extensions: %s; '\n\u001b[0;32m   1349\u001b[0m                              \u001b[1;34m'with Pillow installed matplotlib can handle '\u001b[0m\u001b[1;33m\u001b[0m\u001b[0m\n\u001b[1;32m-> 1350\u001b[1;33m                              'more images' % list(handlers))\n\u001b[0m\u001b[0;32m   1351\u001b[0m         \u001b[1;32mwith\u001b[0m \u001b[0mImage\u001b[0m\u001b[1;33m.\u001b[0m\u001b[0mopen\u001b[0m\u001b[1;33m(\u001b[0m\u001b[0mfname\u001b[0m\u001b[1;33m)\u001b[0m \u001b[1;32mas\u001b[0m \u001b[0mimage\u001b[0m\u001b[1;33m:\u001b[0m\u001b[1;33m\u001b[0m\u001b[0m\n\u001b[0;32m   1352\u001b[0m             \u001b[1;32mreturn\u001b[0m \u001b[0mpil_to_array\u001b[0m\u001b[1;33m(\u001b[0m\u001b[0mimage\u001b[0m\u001b[1;33m)\u001b[0m\u001b[1;33m\u001b[0m\u001b[0m\n",
      "\u001b[1;31mValueError\u001b[0m: Only know how to handle extensions: ['png']; with Pillow installed matplotlib can handle more images"
     ]
    }
   ],
   "source": [
    "import matplotlib.pyplot as plt\n",
    "img=plt.imread('piii.jpg')\n",
    "print(plt.imshow(img))\n",
    "plt.show()"
   ]
  },
  {
   "cell_type": "code",
   "execution_count": 16,
   "metadata": {},
   "outputs": [
    {
     "name": "stdout",
     "output_type": "stream",
     "text": [
      "[1 2 3]\n",
      "(3,) (3,) find the shape of an array\n",
      "3 3 find the size of an array\n",
      "1 1 find the dimension of the array\n",
      "4 np.itemsize(a),find the itemsize of the array\n",
      "<memory at 0x00000282935BC048> np.data(a),which gives you memory location\n",
      "int32 np.dtype(a),find the datatype of tan array\n"
     ]
    }
   ],
   "source": [
    "#importing numpy package\n",
    "import numpy as np\n",
    "#creating an 1D_array\n",
    "a=np.array([1,2,3])\n",
    "           \n",
    "print(a)\n",
    "print(a.shape,np.shape(a),\"find the shape of an array\")\n",
    "print(a.size,np.size(a),\"find the size of an array\")\n",
    "print(a.ndim,np.ndim(a),\"find the dimension of the array\")\n",
    "print(a.itemsize,\"np.itemsize(a),find the itemsize of the array\")\n",
    "print(a.data,\"np.data(a),which gives you memory location\")\n",
    "print(a.dtype,\"np.dtype(a),find the datatype of tan array\")"
   ]
  },
  {
   "cell_type": "code",
   "execution_count": 5,
   "metadata": {},
   "outputs": [
    {
     "name": "stdout",
     "output_type": "stream",
     "text": [
      "[[1 2 3]\n",
      " [4 3 5]]\n",
      "(2, 3) (2, 3) find the shape of an array\n",
      "6 6 find the size of an array\n",
      "2 2 find the dimension of the array\n",
      "4 np.itemsize(a),find the itemsize of the array\n",
      "<memory at 0x00000282935ABC18> np.data(a),which gives you memory location\n",
      "int32 np.dtype(a),find the datatype of tan array\n"
     ]
    }
   ],
   "source": [
    "#importing numpy package\n",
    "import numpy as np\n",
    "#creating an 2D_array\n",
    "a=np.array([[1,2,3],\n",
    "           [4,3,5]])\n",
    "print(a)\n",
    "print(a.shape,np.shape(a),\"find the shape of an array\")\n",
    "print(a.size,np.size(a),\"find the size of an array\")\n",
    "print(a.ndim,np.ndim(a),\"find the dimension of the array\")\n",
    "print(a.itemsize,\"np.itemsize(a),find the itemsize of the array\")\n",
    "print(a.data,\"np.data(a),which gives you memory location\")\n",
    "print(a.dtype,\"np.dtype(a),find the datatype of tan array\")\n"
   ]
  },
  {
   "cell_type": "code",
   "execution_count": 118,
   "metadata": {},
   "outputs": [
    {
     "name": "stdout",
     "output_type": "stream",
     "text": [
      "[[[1 2 3]\n",
      "  [4 3 5]]]\n",
      "(1, 2, 3) (1, 2, 3) find the shape of an array\n",
      "6 6 find the size of an array\n",
      "3 3 find the dimension of the array\n",
      "4 np.itemsize(a),find the itemsize of the array\n",
      "<memory at 0x00000221057A3E58> np.data(a),which gives you memory location\n",
      "int32 np.dtype(a),find the datatype of tan array\n"
     ]
    }
   ],
   "source": [
    "#importing numpy package\n",
    "import numpy as np\n",
    "#creating an 3D_array\n",
    "a=np.array([[[1,2,3],\n",
    "           [4,3,5]]])\n",
    "print(a)\n",
    "print(a.shape,np.shape(a),\"find the shape of an array\")\n",
    "print(a.size,np.size(a),\"find the size of an array\")\n",
    "print(a.ndim,np.ndim(a),\"find the dimension of the array\")\n",
    "print(a.itemsize,\"np.itemsize(a),find the itemsize of the array\")\n",
    "print(a.data,\"np.data(a),which gives you memory location\")\n",
    "print(a.dtype,\"np.dtype(a),find the datatype of tan array\")"
   ]
  },
  {
   "cell_type": "code",
   "execution_count": 8,
   "metadata": {},
   "outputs": [
    {
     "name": "stdout",
     "output_type": "stream",
     "text": [
      "[[[[1 2 3]\n",
      "   [4 3 5]]]]\n",
      "(1, 1, 2, 3) (1, 1, 2, 3) find the shape of an array\n",
      "6 6 find the size of an array\n",
      "4 4 find the dimension of the array\n",
      "4 np.itemsize(a),find the itemsize of the array\n",
      "<memory at 0x000002829349F678> np.data(a),which gives you memory location\n",
      "int32 np.dtype(a),find the datatype of an array\n"
     ]
    }
   ],
   "source": [
    "#importing numpy package\n",
    "import numpy as np\n",
    "#creating an 4D_array\n",
    "a=np.array([[[[1,2,3],\n",
    "           [4,3,5]]]])\n",
    "print(a)\n",
    "print(a.shape,np.shape(a),\"find the shape of an array\")\n",
    "print(a.size,np.size(a),\"find the size of an array\")\n",
    "print(a.ndim,np.ndim(a),\"find the dimension of the array\")\n",
    "print(a.itemsize,\"np.itemsize(a),find the itemsize of the array\")\n",
    "print(a.data,\"np.data(a),which gives you memory location\")\n",
    "print(a.dtype,\"np.dtype(a),find the datatype of an array\")"
   ]
  },
  {
   "cell_type": "code",
   "execution_count": 9,
   "metadata": {},
   "outputs": [
    {
     "name": "stdout",
     "output_type": "stream",
     "text": [
      "[[[[[1 2 3]\n",
      "    [4 3 5]]]]]\n",
      "(1, 1, 1, 2, 3) (1, 1, 1, 2, 3) find the shape of an array\n",
      "6 6 find the size of an array\n",
      "5 5 find the dimension of the array\n",
      "4 np.itemsize(a),find the itemsize of the array\n",
      "<memory at 0x000002829344CB88> np.data(a),which gives you memory location\n",
      "int32 np.dtype(a),find the datatype of an array\n"
     ]
    }
   ],
   "source": [
    "#importing numpy package\n",
    "import numpy as np\n",
    "#creating an 5D_array\n",
    "a=np.array([[[[[1,2,3],\n",
    "           [4,3,5]]]]])\n",
    "print(a)\n",
    "print(a.shape,np.shape(a),\"find the shape of an array\")\n",
    "print(a.size,np.size(a),\"find the size of an array\")\n",
    "print(a.ndim,np.ndim(a),\"find the dimension of the array\")\n",
    "print(a.itemsize,\"np.itemsize(a),find the itemsize of the array\")\n",
    "print(a.data,\"np.data(a),which gives you memory location\")\n",
    "print(a.dtype,\"np.dtype(a),find the datatype of an array\")"
   ]
  },
  {
   "cell_type": "code",
   "execution_count": 10,
   "metadata": {},
   "outputs": [
    {
     "name": "stdout",
     "output_type": "stream",
     "text": [
      "[[[[[[1 2 3]\n",
      "     [4 3 5]]]]]]\n",
      "(1, 1, 1, 1, 2, 3) (1, 1, 1, 1, 2, 3) find the shape of an array\n",
      "6 6 find the size of an array\n",
      "6 6 find the dimension of the array\n",
      "4 np.itemsize(a),find the itemsize of the array\n",
      "<memory at 0x00000282935C0048> np.data(a),which gives you memory location\n",
      "int32 np.dtype(a),find the datatype of an array\n"
     ]
    }
   ],
   "source": [
    "#importing numpy package\n",
    "import numpy as np\n",
    "#creating an 6D_array\n",
    "a=np.array([[[[[[1,2,3],\n",
    "           [4,3,5]]]]]])\n",
    "print(a)\n",
    "print(a.shape,np.shape(a),\"find the shape of an array\")\n",
    "print(a.size,np.size(a),\"find the size of an array\")\n",
    "print(a.ndim,np.ndim(a),\"find the dimension of the array\")\n",
    "print(a.itemsize,\"np.itemsize(a),find the itemsize of the array\")\n",
    "print(a.data,\"np.data(a),which gives you memory location\")\n",
    "print(a.dtype,\"np.dtype(a),find the datatype of an array\")"
   ]
  },
  {
   "cell_type": "code",
   "execution_count": 11,
   "metadata": {},
   "outputs": [
    {
     "name": "stdout",
     "output_type": "stream",
     "text": [
      "[[[[[[[1 2 3]\n",
      "      [4 3 5]]]]]]]\n",
      "(1, 1, 1, 1, 1, 2, 3) (1, 1, 1, 1, 1, 2, 3) find the shape of an array\n",
      "6 6 find the size of an array\n",
      "7 7 find the dimension of the array\n",
      "4 np.itemsize(a),find the itemsize of the array\n",
      "<memory at 0x000002829346B828> np.data(a),which gives you memory location\n",
      "int32 np.dtype(a),find the datatype of an array\n"
     ]
    }
   ],
   "source": [
    "#importing numpy package\n",
    "import numpy as np\n",
    "#creating an 7D_array\n",
    "a=np.array([[[[[[[1,2,3],\n",
    "           [4,3,5]]]]]]])\n",
    "print(a)\n",
    "print(a.shape,np.shape(a),\"find the shape of an array\")\n",
    "print(a.size,np.size(a),\"find the size of an array\")\n",
    "print(a.ndim,np.ndim(a),\"find the dimension of the array\")\n",
    "print(a.itemsize,\"np.itemsize(a),find the itemsize of the array\")\n",
    "print(a.data,\"np.data(a),which gives you memory location\")\n",
    "print(a.dtype,\"np.dtype(a),find the datatype of an array\")"
   ]
  },
  {
   "cell_type": "code",
   "execution_count": 12,
   "metadata": {},
   "outputs": [
    {
     "name": "stdout",
     "output_type": "stream",
     "text": [
      "[[[[[[[[1 2 3]\n",
      "       [4 3 5]]]]]]]]\n",
      "(1, 1, 1, 1, 1, 1, 2, 3) (1, 1, 1, 1, 1, 1, 2, 3) find the shape of an array\n",
      "6 6 find the size of an array\n",
      "8 8 find the dimension of the array\n",
      "4 np.itemsize(a),find the itemsize of the array\n",
      "<memory at 0x000002829344E480> np.data(a),which gives you memory location\n",
      "int32 np.dtype(a),find the datatype of an array\n"
     ]
    }
   ],
   "source": [
    "#importing numpy package\n",
    "import numpy as np\n",
    "#creating an 8D_array\n",
    "a=np.array([[[[[[[[1,2,3],\n",
    "           [4,3,5]]]]]]]])\n",
    "print(a)\n",
    "print(a.shape,np.shape(a),\"find the shape of an array\")\n",
    "print(a.size,np.size(a),\"find the size of an array\")\n",
    "print(a.ndim,np.ndim(a),\"find the dimension of the array\")\n",
    "print(a.itemsize,\"np.itemsize(a),find the itemsize of the array\")\n",
    "print(a.data,\"np.data(a),which gives you memory location\")\n",
    "print(a.dtype,\"np.dtype(a),find the datatype of an array\")"
   ]
  },
  {
   "cell_type": "code",
   "execution_count": 13,
   "metadata": {},
   "outputs": [
    {
     "name": "stdout",
     "output_type": "stream",
     "text": [
      "[[[[[[[[[1 2 3]\n",
      "        [4 3 5]]]]]]]]]\n",
      "(1, 1, 1, 1, 1, 1, 1, 2, 3) (1, 1, 1, 1, 1, 1, 1, 2, 3) find the shape of an array\n",
      "6 6 find the size of an array\n",
      "9 9 find the dimension of the array\n",
      "4 np.itemsize(a),find the itemsize of the array\n",
      "<memory at 0x0000028293393948> np.data(a),which gives you memory location\n",
      "int32 np.dtype(a),find the datatype of an array\n"
     ]
    }
   ],
   "source": [
    "#importing numpy package\n",
    "import numpy as np\n",
    "#creating an 9D_array\n",
    "a=np.array([[[[[[[[[1,2,3],\n",
    "           [4,3,5]]]]]]]]])\n",
    "print(a)\n",
    "print(a.shape,np.shape(a),\"find the shape of an array\")\n",
    "print(a.size,np.size(a),\"find the size of an array\")\n",
    "print(a.ndim,np.ndim(a),\"find the dimension of the array\")\n",
    "print(a.itemsize,\"np.itemsize(a),find the itemsize of the array\")\n",
    "print(a.data,\"np.data(a),which gives you memory location\")\n",
    "print(a.dtype,\"np.dtype(a),find the datatype of an array\")"
   ]
  },
  {
   "cell_type": "code",
   "execution_count": 14,
   "metadata": {},
   "outputs": [
    {
     "name": "stdout",
     "output_type": "stream",
     "text": [
      "[[[[[[[[[[1 2 3]\n",
      "         [4 3 5]]]]]]]]]]\n",
      "(1, 1, 1, 1, 1, 1, 1, 1, 2, 3) (1, 1, 1, 1, 1, 1, 1, 1, 2, 3) find the shape of an array\n",
      "6 6 find the size of an array\n",
      "10 10 find the dimension of the array\n",
      "4 np.itemsize(a),find the itemsize of the array\n",
      "<memory at 0x00000282922BB510> np.data(a),which gives you memory location\n",
      "int32 np.dtype(a),find the datatype of an array\n"
     ]
    }
   ],
   "source": [
    "#importing numpy package\n",
    "import numpy as np\n",
    "#creating an 10D_array\n",
    "a=np.array([[[[[[[[[[1,2,3],\n",
    "           [4,3,5]]]]]]]]]])\n",
    "print(a)\n",
    "print(a.shape,np.shape(a),\"find the shape of an array\")\n",
    "print(a.size,np.size(a),\"find the size of an array\")\n",
    "print(a.ndim,np.ndim(a),\"find the dimension of the array\")\n",
    "print(a.itemsize,\"np.itemsize(a),find the itemsize of the array\")\n",
    "print(a.data,\"np.data(a),which gives you memory location\")\n",
    "print(a.dtype,\"np.dtype(a),find the datatype of an array\")"
   ]
  },
  {
   "cell_type": "code",
   "execution_count": 24,
   "metadata": {},
   "outputs": [
    {
     "name": "stdout",
     "output_type": "stream",
     "text": [
      "[0 1 2 3 4]\n",
      "[ 5  6  7  8  9 10 11 12 13 14 15 16 17 18 19]\n",
      "[-0.95892427 -0.2794155   0.6569866   0.98935825  0.41211849 -0.54402111\n",
      " -0.99999021 -0.53657292  0.42016704  0.99060736  0.65028784 -0.28790332\n",
      " -0.96139749 -0.75098725  0.14987721]\n",
      "[-2.95812916e-01 -3.43635300e+00  1.14751542e+00 -1.47065064e-01\n",
      " -2.21084541e+00  1.54235105e+00 -4.42574133e-03 -1.57267341e+00\n",
      "  2.15972864e+00  1.38033720e-01 -1.16823331e+00  3.32632320e+00\n",
      "  2.86211833e-01 -8.79264876e-01  6.59676425e+00]\n",
      "[  3.52532009   1.04148193   1.3264319   -6.87285064  -1.09753791\n",
      "  -1.19179351 225.95305931   1.18503918   1.101993     7.31329782\n",
      "  -1.31633001  -1.0442125   -3.63420508   1.5144248    1.01142443]\n",
      "2.0\n",
      "12.0\n",
      "4.320493798938574\n",
      "18.666666666666668\n",
      "1.0\n"
     ]
    }
   ],
   "source": [
    "import numpy as np\n",
    "a=np.arange(5)\n",
    "print(a)\n",
    "b=np.arange(5,20)\n",
    "print(b)\n",
    "print(np.sin(b))\n",
    "print(1/np.tan(b))\n",
    "print(1/np.cos(b))\n",
    "print(np.mean(a))\n",
    "print(np.mean(b))\n",
    "print(np.std(b))\n",
    "print(np.var(b))\n",
    "print(np.corrcoef(b))\n"
   ]
  },
  {
   "cell_type": "code",
   "execution_count": null,
   "metadata": {},
   "outputs": [],
   "source": []
  }
 ],
 "metadata": {
  "kernelspec": {
   "display_name": "Python 3",
   "language": "python",
   "name": "python3"
  },
  "language_info": {
   "codemirror_mode": {
    "name": "ipython",
    "version": 3
   },
   "file_extension": ".py",
   "mimetype": "text/x-python",
   "name": "python",
   "nbconvert_exporter": "python",
   "pygments_lexer": "ipython3",
   "version": "3.6.0"
  }
 },
 "nbformat": 4,
 "nbformat_minor": 2
}
